{
 "cells": [
  {
   "cell_type": "code",
   "execution_count": 15,
   "metadata": {},
   "outputs": [
    {
     "name": "stdout",
     "output_type": "stream",
     "text": [
      "best_so_far.pth.tar\t\t\t      ResNet34.pth.tar\r\n",
      "README.md\t\t\t\t      resnet_50_original.pth.tar\r\n",
      "resnet_18_grad_noise.pth.tar\t\t      Resnet Code\r\n",
      "resnet_18_grad_noise_started_earlier.pth.tar  Untitled.ipynb\r\n",
      "resnet_18_lower_lr.pth.tar\t\t      Visualization.ipynb\r\n",
      "resnet_18_original.pth.tar\t\t      yolo2\r\n"
     ]
    }
   ],
   "source": [
    "!ls"
   ]
  },
  {
   "cell_type": "code",
   "execution_count": 71,
   "metadata": {},
   "outputs": [],
   "source": [
    "# Loads a model including the error array and plots it alongside the number of epochs.\n",
    "import torch\n",
    "from torch.utils.data import Dataset, DataLoader\n",
    "# from torchvision import transforms, utils\n",
    "import matplotlib.pyplot as plt\n",
    "import matplotlib.image as mpimg\n",
    "import numpy as np\n",
    "import matplotlib\n",
    "import pandas as pd\n",
    "%matplotlib inline\n",
    "\n",
    "model = 'ResNet-18'"
   ]
  },
  {
   "cell_type": "markdown",
   "metadata": {},
   "source": [
    "# Plot image"
   ]
  },
  {
   "cell_type": "code",
   "execution_count": 26,
   "metadata": {},
   "outputs": [],
   "source": [
    "import warnings\n",
    "warnings.filterwarnings(\"ignore\")"
   ]
  },
  {
   "cell_type": "code",
   "execution_count": 27,
   "metadata": {},
   "outputs": [
    {
     "data": {
      "text/plain": [
       "dict_keys(['best_top5', 'epoch', 'loss_history', 'optimizer', 'best_top1', 'state_dict'])"
      ]
     },
     "execution_count": 27,
     "metadata": {},
     "output_type": "execute_result"
    }
   ],
   "source": [
    "a.keys()"
   ]
  },
  {
   "cell_type": "code",
   "execution_count": 78,
   "metadata": {},
   "outputs": [
    {
     "name": "stdout",
     "output_type": "stream",
     "text": [
      "ResNet34.pth.tar\n"
     ]
    },
    {
     "data": {
      "text/plain": [
       "(53.39900268764496, 80.26800336494446, 71)"
      ]
     },
     "execution_count": 78,
     "metadata": {},
     "output_type": "execute_result"
    }
   ],
   "source": [
    "filename = 'ResNet34.pth.tar'\n",
    "def get_loss_history(filename):\n",
    "    return torch.load(filename)\n",
    "\n",
    "a = get_loss_history(filename)\n",
    "print(filename)\n",
    "a['best_top1'], a['best_top5'], a['epoch']"
   ]
  },
  {
   "cell_type": "code",
   "execution_count": 79,
   "metadata": {},
   "outputs": [
    {
     "data": {
      "text/plain": [
       "dict_keys(['best_top5', 'epoch', 'loss_history', 'optimizer', 'best_top1', 'state_dict'])"
      ]
     },
     "execution_count": 79,
     "metadata": {},
     "output_type": "execute_result"
    }
   ],
   "source": [
    "a.keys()"
   ]
  },
  {
   "cell_type": "code",
   "execution_count": 80,
   "metadata": {},
   "outputs": [
    {
     "data": {
      "text/plain": [
       "[0,\n",
       " 4.263777135467529,\n",
       " 3.9028880534410475,\n",
       " 3.681137269473076,\n",
       " 3.53878742043972,\n",
       " 3.4142425325155257,\n",
       " 3.314619131398201,\n",
       " 3.218110879898071,\n",
       " 3.1412144399046897,\n",
       " 3.0726960748910903,\n",
       " 3.0021992141127587,\n",
       " 2.939690418934822,\n",
       " 2.8821173994660376,\n",
       " 2.83627189347744,\n",
       " 2.7902076897263526,\n",
       " 2.7481544182419775,\n",
       " 2.70122769677639,\n",
       " 2.6687869307875633,\n",
       " 2.6299218504309656,\n",
       " 2.5967815644145014,\n",
       " 2.5511432398438454,\n",
       " 2.513318140244484,\n",
       " 2.480290794479847,\n",
       " 2.4538444911956785,\n",
       " 2.427708067679405,\n",
       " 2.3934356048226357,\n",
       " 2.3606088630318642,\n",
       " 2.330812617647648,\n",
       " 2.305224732029438,\n",
       " 2.2749886778235435,\n",
       " 2.253588773667812,\n",
       " 2.089082369661331,\n",
       " 2.03410288490057,\n",
       " 2.0151489740729334,\n",
       " 1.9961322037100793,\n",
       " 1.9845240164995193,\n",
       " 1.9687638938605785,\n",
       " 1.9605930552780628,\n",
       " 1.952289240258932,\n",
       " 1.9417205592274667,\n",
       " 1.9309728758454323,\n",
       " 1.9272878515303136,\n",
       " 1.9221019257724286,\n",
       " 1.9085503952622414,\n",
       " 1.9038114680945872,\n",
       " 1.8960309232831,\n",
       " 1.8912937283873559,\n",
       " 1.8874244852125646,\n",
       " 1.8825892077028752,\n",
       " 1.8680117986917495,\n",
       " 1.874290670990944,\n",
       " 1.8631968201100826,\n",
       " 1.8507296573102474,\n",
       " 1.8488897171020509,\n",
       " 1.8464106294214726,\n",
       " 1.839970297306776,\n",
       " 1.836986528366804,\n",
       " 1.8361254978299142,\n",
       " 1.8289933469116688,\n",
       " 1.8206307409524918,\n",
       " 1.8092040468752384,\n",
       " 1.7837792526245118,\n",
       " 1.7873038156032561,\n",
       " 1.7768507040321826,\n",
       " 1.7803372312605381,\n",
       " 1.7739953251183034,\n",
       " 1.7842711943507195,\n",
       " 1.7749540511071682,\n",
       " 1.7507883309423924,\n",
       " 1.755572731742263,\n",
       " 1.74713332041502,\n",
       " 1.7412066393643617]"
      ]
     },
     "execution_count": 80,
     "metadata": {},
     "output_type": "execute_result"
    }
   ],
   "source": [
    "a['loss_history']['train']"
   ]
  },
  {
   "cell_type": "code",
   "execution_count": 84,
   "metadata": {
    "scrolled": false
   },
   "outputs": [
    {
     "data": {
      "text/plain": [
       "[0,\n",
       " 3.489833939552307,\n",
       " 3.5096287922859193,\n",
       " 3.2233375821113586,\n",
       " 2.964699596643448,\n",
       " 3.3544870619773866,\n",
       " 4.385341248512268,\n",
       " 71.0792425107956,\n",
       " 2.9116477127075195,\n",
       " 2.565375005602837,\n",
       " 2.600100867629051,\n",
       " 2.51171307849884,\n",
       " 2.7799826596975326,\n",
       " 2.579666912198067,\n",
       " 2.7768678332567216,\n",
       " 4.034667249560356,\n",
       " 5.909411527991295,\n",
       " 2.3704933459758757,\n",
       " 13.470115962743758,\n",
       " 2.4410322271585465,\n",
       " 9.550227569937705,\n",
       " 3.8732954928874967,\n",
       " 5.47877457177639,\n",
       " 3.2458097397089003,\n",
       " 2.8309551364183427,\n",
       " 7.923108650803566,\n",
       " 17.29889261496067,\n",
       " 13.71036294722557,\n",
       " 9.380853751659393,\n",
       " 2.109052904844284,\n",
       " 2.0057811007499695,\n",
       " 2.240008808851242,\n",
       " 8.161580015420913,\n",
       " 18.115742884099483,\n",
       " 17.346090485334397,\n",
       " 46.82335100269318,\n",
       " 17.695739491581918,\n",
       " 30.13161168861389,\n",
       " 32.86860382354259,\n",
       " 9.567115292668342,\n",
       " 11.290049228668213,\n",
       " 36.8090901697278,\n",
       " 7.210657541036606,\n",
       " 27.380948638141156,\n",
       " 57.005662583231924,\n",
       " 35.79306792277098,\n",
       " 11.296311588704587,\n",
       " 39.186612833201885,\n",
       " 58.31882165527344,\n",
       " 47.946410850584506,\n",
       " 34.16792197918892,\n",
       " 13.759186936378478,\n",
       " 26.945641406297685,\n",
       " 55.96160011607409,\n",
       " 20.677993515610694,\n",
       " 8.759848436892032,\n",
       " 11.2118785597682,\n",
       " 12.06721413230896,\n",
       " 16.896225841879843,\n",
       " 28.38579068505764,\n",
       " 20.099744569420814,\n",
       " 56.244725552678105,\n",
       " 50.441133836507795,\n",
       " 46.28994294267893,\n",
       " 57.2692263200283,\n",
       " 73.05470272278785,\n",
       " 25.595362868487836]"
      ]
     },
     "execution_count": 84,
     "metadata": {},
     "output_type": "execute_result"
    }
   ],
   "source": [
    "a['loss_history']['val']"
   ]
  },
  {
   "cell_type": "code",
   "execution_count": 83,
   "metadata": {
    "scrolled": false
   },
   "outputs": [
    {
     "data": {
      "text/plain": [
       "Text(0.5,0,'Epoch')"
      ]
     },
     "execution_count": 83,
     "metadata": {},
     "output_type": "execute_result"
    },
    {
     "data": {
      "image/png": "[encoded data removed]",
      "text/plain": [
       "<matplotlib.figure.Figure at 0x7fc12ae78908>"
      ]
     },
     "metadata": {},
     "output_type": "display_data"
    }
   ],
   "source": [
    "font = {'family' : 'normal',\n",
    "        'weight' : 'normal',\n",
    "        'size'   : 14}\n",
    "\n",
    "matplotlib.rc('font', **font)\n",
    "\n",
    "plt.figure(figsize=(10, 7))\n",
    "plt.plot(a['loss_history']['val'][1:], label='val');\n",
    "plt.plot(a['loss_history']['train'][1:], label='train');\n",
    "plt.legend();\n",
    "plt.ylabel('Average Loss')\n",
    "plt.xlabel('Epoch')"
   ]
  },
  {
   "cell_type": "code",
   "execution_count": 59,
   "metadata": {},
   "outputs": [
    {
     "ename": "KeyError",
     "evalue": "'val'",
     "output_type": "error",
     "traceback": [
      "\u001b[0;31m---------------------------------------------------------------------------\u001b[0m",
      "\u001b[0;31mKeyError\u001b[0m                                  Traceback (most recent call last)",
      "\u001b[0;32m<ipython-input-59-c723766977ae>\u001b[0m in \u001b[0;36m<module>\u001b[0;34m()\u001b[0m\n\u001b[0;32m----> 1\u001b[0;31m \u001b[0mlen\u001b[0m\u001b[0;34m(\u001b[0m\u001b[0ma\u001b[0m\u001b[0;34m[\u001b[0m\u001b[0;34m'val'\u001b[0m\u001b[0;34m]\u001b[0m\u001b[0;34m)\u001b[0m\u001b[0;34m\u001b[0m\u001b[0m\n\u001b[0m",
      "\u001b[0;31mKeyError\u001b[0m: 'val'"
     ]
    }
   ],
   "source": [
    "len(a['val'])"
   ]
  },
  {
   "cell_type": "markdown",
   "metadata": {},
   "source": [
    "# Visualizing Mistakes"
   ]
  },
  {
   "cell_type": "code",
   "execution_count": 137,
   "metadata": {},
   "outputs": [
    {
     "name": "stdout",
     "output_type": "stream",
     "text": [
      "categories.txt\timages\tobjects  train.txt  val.txt\r\n"
     ]
    }
   ],
   "source": [
    "!ls ../data"
   ]
  },
  {
   "cell_type": "code",
   "execution_count": 228,
   "metadata": {},
   "outputs": [
    {
     "data": {
      "text/plain": [
       "['/a/abbey',\n",
       " '0\\n/a/airport_terminal',\n",
       " '1\\n/a/amphitheater',\n",
       " '2\\n/a/amusement_park',\n",
       " '3\\n/a/aquarium',\n",
       " '4\\n/a/aqueduct',\n",
       " '5\\n/a/art_gallery',\n",
       " '6\\n/a/assembly_line',\n",
       " '7\\n/a/auditorium',\n",
       " '8\\n/b/badlands',\n",
       " '9\\n/b/bakery/shop',\n",
       " '10\\n/b/ballroom',\n",
       " '11\\n/b/bamboo_forest',\n",
       " '12\\n/b/banquet_hall',\n",
       " '13\\n/b/bar',\n",
       " '14\\n/b/baseball_field',\n",
       " '15\\n/b/bathroom',\n",
       " '16\\n/b/beauty_salon',\n",
       " '17\\n/b/bedroom',\n",
       " '18\\n/b/boat_deck',\n",
       " '19\\n/b/bookstore',\n",
       " '20\\n/b/botanical_garden',\n",
       " '21\\n/b/bowling_alley',\n",
       " '22\\n/b/boxing_ring',\n",
       " '23\\n/b/bridge',\n",
       " '24\\n/b/bus_interior',\n",
       " '25\\n/b/butchers_shop',\n",
       " '26\\n/c/campsite',\n",
       " '27\\n/c/candy_store',\n",
       " '28\\n/c/canyon',\n",
       " '29\\n/c/cemetery',\n",
       " '30\\n/c/chalet',\n",
       " '31\\n/c/church/outdoor',\n",
       " '32\\n/c/classroom',\n",
       " '33\\n/c/clothing_store',\n",
       " '34\\n/c/coast',\n",
       " '35\\n/c/cockpit',\n",
       " '36\\n/c/coffee_shop',\n",
       " '37\\n/c/conference_room',\n",
       " '38\\n/c/construction_site',\n",
       " '39\\n/c/corn_field',\n",
       " '40\\n/c/corridor',\n",
       " '41\\n/c/courtyard',\n",
       " '42\\n/d/dam',\n",
       " '43\\n/d/desert/sand',\n",
       " '44\\n/d/dining_room',\n",
       " '45\\n/d/driveway',\n",
       " '46\\n/f/fire_station',\n",
       " '47\\n/f/food_court',\n",
       " '48\\n/f/fountain',\n",
       " '49\\n/g/gas_station',\n",
       " '50\\n/g/golf_course',\n",
       " '51\\n/h/harbor',\n",
       " '52\\n/h/highway',\n",
       " '53\\n/h/hospital_room',\n",
       " '54\\n/h/hot_spring',\n",
       " '55\\n/i/ice_skating_rink/outdoor',\n",
       " '56\\n/i/iceberg',\n",
       " '57\\n/k/kindergarden_classroom',\n",
       " '58\\n/k/kitchen',\n",
       " '59\\n/l/laundromat',\n",
       " '60\\n/l/lighthouse',\n",
       " '61\\n/l/living_room',\n",
       " '62\\n/l/lobby',\n",
       " '63\\n/l/locker_room',\n",
       " '64\\n/m/market/outdoor',\n",
       " '65\\n/m/martial_arts_gym',\n",
       " '66\\n/m/monastery/outdoor',\n",
       " '67\\n/m/mountain',\n",
       " '68\\n/m/museum/indoor',\n",
       " '69\\n/o/office',\n",
       " '70\\n/p/palace',\n",
       " '71\\n/p/parking_lot',\n",
       " '72\\n/p/phone_booth',\n",
       " '73\\n/p/playground',\n",
       " '74\\n/r/racecourse',\n",
       " '75\\n/r/railroad_track',\n",
       " '76\\n/r/rainforest',\n",
       " '77\\n/r/restaurant',\n",
       " '78\\n/r/river',\n",
       " '79\\n/r/rock_arch',\n",
       " '80\\n/r/runway',\n",
       " '81\\n/s/shed',\n",
       " '82\\n/s/shower',\n",
       " '83\\n/s/ski_slope',\n",
       " '84\\n/s/skyscraper',\n",
       " '85\\n/s/slum',\n",
       " '86\\n/s/stadium/football',\n",
       " '87\\n/s/stage/indoor',\n",
       " '88\\n/s/staircase',\n",
       " '89\\n/s/subway_station/platform',\n",
       " '90\\n/s/supermarket',\n",
       " '91\\n/s/swamp',\n",
       " '92\\n/s/swimming_pool/outdoor',\n",
       " '93\\n/t/temple/east_asia',\n",
       " '94\\n/t/track/outdoor',\n",
       " '95\\n/t/trench',\n",
       " '96\\n/v/valley',\n",
       " '97\\n/v/volcano',\n",
       " '98\\n/y/yard',\n",
       " '99\\n']"
      ]
     },
     "execution_count": 228,
     "metadata": {},
     "output_type": "execute_result"
    }
   ],
   "source": [
    "categories.split(' ')"
   ]
  },
  {
   "cell_type": "code",
   "execution_count": 210,
   "metadata": {},
   "outputs": [],
   "source": [
    "col_names = ['top1','top2','top3','top4','top5','actual']\n",
    "df = pd.read_csv('~/val_output.txt', sep=' ', names=col_names)\n",
    "categories = open(\"../data/categories.txt\",\"r+\").read()\n",
    "\n",
    "# Categ_num to class (2 istead of -1 because of outdoor scenes)\n",
    "categ_map = {cat.split(' ')[-1]: cat.split(' ')[0].split('/')[2] for cat in categories.split('\\n')[:-1]}"
   ]
  },
  {
   "cell_type": "code",
   "execution_count": 211,
   "metadata": {},
   "outputs": [],
   "source": [
    "col_names = ['top1','top2','top3','top4','top5','actual']\n",
    "df = pd.read_csv('~/val_output.txt', sep=' ', names=col_names)"
   ]
  },
  {
   "cell_type": "code",
   "execution_count": 226,
   "metadata": {},
   "outputs": [
    {
     "data": {
      "text/plain": [
       "{'church': 'outdoor',\n",
       " 'ice_skating_rink': 'outdoor',\n",
       " 'market': 'outdoor',\n",
       " 'monastery': 'outdoor',\n",
       " 'swimming_pool': 'outdoor',\n",
       " 'track': 'outdoor'}"
      ]
     },
     "execution_count": 226,
     "metadata": {},
     "output_type": "execute_result"
    }
   ],
   "source": [
    "{cat.split(' ')[0].split('/')[2]: cat.split(' ')[0].split('/')[-1] for cat in categories.split('\\n')[:-1] if cat.split(' ')[0].split('/')[-1]=='outdoor'}"
   ]
  },
  {
   "cell_type": "code",
   "execution_count": 216,
   "metadata": {},
   "outputs": [],
   "source": [
    "df['is_top1'] = np.where(df['actual'] == df['top1'], 1, 0)\n",
    "df['is_top5']  = np.where(df['actual'] == df['top1'], 1, 0) + \\\n",
    "                 np.where(df['actual'] == df['top2'], 1, 0) + \\\n",
    "                 np.where(df['actual'] == df['top3'], 1, 0) + \\\n",
    "                 np.where(df['actual'] == df['top4'], 1, 0) + \\\n",
    "                 np.where(df['actual'] == df['top5'], 1, 0) "
   ]
  },
  {
   "cell_type": "code",
   "execution_count": 218,
   "metadata": {},
   "outputs": [],
   "source": [
    "df['category'] = df['actual'].apply(lambda x: categ_map[str(x)])"
   ]
  },
  {
   "cell_type": "code",
   "execution_count": 221,
   "metadata": {},
   "outputs": [],
   "source": [
    "grouped = df.groupby('category')"
   ]
  },
  {
   "cell_type": "code",
   "execution_count": 244,
   "metadata": {
    "scrolled": false
   },
   "outputs": [
    {
     "data": {
      "image/png": "[encoded data removed]",
      "text/plain": [
       "<matplotlib.figure.Figure at 0x7f6980a17ef0>"
      ]
     },
     "metadata": {},
     "output_type": "display_data"
    }
   ],
   "source": [
    "grouped.apply(lambda x: sum(x['is_top1'])).plot.bar(figsize=(20, 10));"
   ]
  },
  {
   "cell_type": "code",
   "execution_count": 246,
   "metadata": {},
   "outputs": [
    {
     "data": {
      "image/png": "[encoded data removed]",
      "text/plain": [
       "<matplotlib.figure.Figure at 0x7f69805eac18>"
      ]
     },
     "metadata": {},
     "output_type": "display_data"
    }
   ],
   "source": [
    "grouped.apply(lambda x: sum(x['is_top5'])).plot.bar(figsize=(20, 10));"
   ]
  },
  {
   "cell_type": "code",
   "execution_count": 234,
   "metadata": {},
   "outputs": [],
   "source": [
    "dfcopy = df.copy()"
   ]
  },
  {
   "cell_type": "code",
   "execution_count": 237,
   "metadata": {},
   "outputs": [],
   "source": [
    "def name_classifications(df, category):\n",
    "    return df.category.apply(lambda x: categ_map[str(x)])"
   ]
  },
  {
   "cell_type": "code",
   "execution_count": 241,
   "metadata": {},
   "outputs": [],
   "source": [
    "dfcopy['top1'] = df['top1'].apply(lambda x: categ_map[str(x)])\n",
    "dfcopy['top2'] = df['top2'].apply(lambda x: categ_map[str(x)])\n",
    "dfcopy['top3'] = df['top3'].apply(lambda x: categ_map[str(x)])\n",
    "dfcopy['top4'] = df['top4'].apply(lambda x: categ_map[str(x)])\n",
    "dfcopy['top5'] = df['top5'].apply(lambda x: categ_map[str(x)])"
   ]
  },
  {
   "cell_type": "code",
   "execution_count": 259,
   "metadata": {},
   "outputs": [],
   "source": [
    "to_analyse = 'museum'"
   ]
  },
  {
   "cell_type": "code",
   "execution_count": 260,
   "metadata": {},
   "outputs": [],
   "source": [
    "dfstuff = pd.DataFrame()"
   ]
  },
  {
   "cell_type": "code",
   "execution_count": 261,
   "metadata": {},
   "outputs": [],
   "source": [
    "dfstuff['top1'] = dfcopy[dfcopy['category'] == to_analyse]['top1'].value_counts()\n",
    "dfstuff['top2'] = dfcopy[dfcopy['category'] == to_analyse]['top2'].value_counts()\n",
    "dfstuff['top3'] = dfcopy[dfcopy['category'] == to_analyse]['top3'].value_counts()\n",
    "dfstuff['top4'] = dfcopy[dfcopy['category'] == to_analyse]['top4'].value_counts()\n",
    "dfstuff['top5'] = dfcopy[dfcopy['category'] == to_analyse]['top5'].value_counts()"
   ]
  },
  {
   "cell_type": "code",
   "execution_count": 262,
   "metadata": {},
   "outputs": [
    {
     "data": {
      "text/html": [
       "<div>\n",
       "<style>\n",
       "    .dataframe thead tr:only-child th {\n",
       "        text-align: right;\n",
       "    }\n",
       "\n",
       "    .dataframe thead th {\n",
       "        text-align: left;\n",
       "    }\n",
       "\n",
       "    .dataframe tbody tr th {\n",
       "        vertical-align: top;\n",
       "    }\n",
       "</style>\n",
       "<table border=\"1\" class=\"dataframe\">\n",
       "  <thead>\n",
       "    <tr style=\"text-align: right;\">\n",
       "      <th></th>\n",
       "      <th>top1</th>\n",
       "      <th>top2</th>\n",
       "      <th>top3</th>\n",
       "      <th>top4</th>\n",
       "      <th>top5</th>\n",
       "    </tr>\n",
       "  </thead>\n",
       "  <tbody>\n",
       "    <tr>\n",
       "      <th>art_gallery</th>\n",
       "      <td>9</td>\n",
       "      <td>6.0</td>\n",
       "      <td>2.0</td>\n",
       "      <td>1.0</td>\n",
       "      <td>3.0</td>\n",
       "    </tr>\n",
       "    <tr>\n",
       "      <th>museum</th>\n",
       "      <td>7</td>\n",
       "      <td>12.0</td>\n",
       "      <td>12.0</td>\n",
       "      <td>8.0</td>\n",
       "      <td>8.0</td>\n",
       "    </tr>\n",
       "    <tr>\n",
       "      <th>staircase</th>\n",
       "      <td>5</td>\n",
       "      <td>1.0</td>\n",
       "      <td>1.0</td>\n",
       "      <td>2.0</td>\n",
       "      <td>NaN</td>\n",
       "    </tr>\n",
       "    <tr>\n",
       "      <th>bakery</th>\n",
       "      <td>5</td>\n",
       "      <td>2.0</td>\n",
       "      <td>2.0</td>\n",
       "      <td>3.0</td>\n",
       "      <td>2.0</td>\n",
       "    </tr>\n",
       "    <tr>\n",
       "      <th>assembly_line</th>\n",
       "      <td>4</td>\n",
       "      <td>3.0</td>\n",
       "      <td>4.0</td>\n",
       "      <td>6.0</td>\n",
       "      <td>NaN</td>\n",
       "    </tr>\n",
       "    <tr>\n",
       "      <th>lobby</th>\n",
       "      <td>4</td>\n",
       "      <td>6.0</td>\n",
       "      <td>2.0</td>\n",
       "      <td>2.0</td>\n",
       "      <td>3.0</td>\n",
       "    </tr>\n",
       "    <tr>\n",
       "      <th>fire_station</th>\n",
       "      <td>4</td>\n",
       "      <td>2.0</td>\n",
       "      <td>NaN</td>\n",
       "      <td>3.0</td>\n",
       "      <td>2.0</td>\n",
       "    </tr>\n",
       "    <tr>\n",
       "      <th>airport_terminal</th>\n",
       "      <td>4</td>\n",
       "      <td>3.0</td>\n",
       "      <td>4.0</td>\n",
       "      <td>2.0</td>\n",
       "      <td>3.0</td>\n",
       "    </tr>\n",
       "    <tr>\n",
       "      <th>office</th>\n",
       "      <td>3</td>\n",
       "      <td>2.0</td>\n",
       "      <td>NaN</td>\n",
       "      <td>3.0</td>\n",
       "      <td>5.0</td>\n",
       "    </tr>\n",
       "    <tr>\n",
       "      <th>locker_room</th>\n",
       "      <td>3</td>\n",
       "      <td>1.0</td>\n",
       "      <td>2.0</td>\n",
       "      <td>4.0</td>\n",
       "      <td>NaN</td>\n",
       "    </tr>\n",
       "    <tr>\n",
       "      <th>aquarium</th>\n",
       "      <td>2</td>\n",
       "      <td>NaN</td>\n",
       "      <td>1.0</td>\n",
       "      <td>1.0</td>\n",
       "      <td>1.0</td>\n",
       "    </tr>\n",
       "    <tr>\n",
       "      <th>martial_arts_gym</th>\n",
       "      <td>2</td>\n",
       "      <td>1.0</td>\n",
       "      <td>3.0</td>\n",
       "      <td>NaN</td>\n",
       "      <td>2.0</td>\n",
       "    </tr>\n",
       "    <tr>\n",
       "      <th>bookstore</th>\n",
       "      <td>2</td>\n",
       "      <td>1.0</td>\n",
       "      <td>1.0</td>\n",
       "      <td>NaN</td>\n",
       "      <td>NaN</td>\n",
       "    </tr>\n",
       "    <tr>\n",
       "      <th>ballroom</th>\n",
       "      <td>2</td>\n",
       "      <td>1.0</td>\n",
       "      <td>1.0</td>\n",
       "      <td>3.0</td>\n",
       "      <td>2.0</td>\n",
       "    </tr>\n",
       "    <tr>\n",
       "      <th>boxing_ring</th>\n",
       "      <td>2</td>\n",
       "      <td>NaN</td>\n",
       "      <td>NaN</td>\n",
       "      <td>NaN</td>\n",
       "      <td>2.0</td>\n",
       "    </tr>\n",
       "    <tr>\n",
       "      <th>corridor</th>\n",
       "      <td>2</td>\n",
       "      <td>4.0</td>\n",
       "      <td>2.0</td>\n",
       "      <td>2.0</td>\n",
       "      <td>1.0</td>\n",
       "    </tr>\n",
       "    <tr>\n",
       "      <th>bedroom</th>\n",
       "      <td>2</td>\n",
       "      <td>NaN</td>\n",
       "      <td>NaN</td>\n",
       "      <td>NaN</td>\n",
       "      <td>1.0</td>\n",
       "    </tr>\n",
       "    <tr>\n",
       "      <th>living_room</th>\n",
       "      <td>2</td>\n",
       "      <td>2.0</td>\n",
       "      <td>1.0</td>\n",
       "      <td>1.0</td>\n",
       "      <td>1.0</td>\n",
       "    </tr>\n",
       "    <tr>\n",
       "      <th>clothing_store</th>\n",
       "      <td>2</td>\n",
       "      <td>2.0</td>\n",
       "      <td>2.0</td>\n",
       "      <td>2.0</td>\n",
       "      <td>3.0</td>\n",
       "    </tr>\n",
       "    <tr>\n",
       "      <th>dining_room</th>\n",
       "      <td>2</td>\n",
       "      <td>NaN</td>\n",
       "      <td>NaN</td>\n",
       "      <td>1.0</td>\n",
       "      <td>1.0</td>\n",
       "    </tr>\n",
       "    <tr>\n",
       "      <th>courtyard</th>\n",
       "      <td>2</td>\n",
       "      <td>1.0</td>\n",
       "      <td>2.0</td>\n",
       "      <td>NaN</td>\n",
       "      <td>1.0</td>\n",
       "    </tr>\n",
       "    <tr>\n",
       "      <th>trench</th>\n",
       "      <td>2</td>\n",
       "      <td>NaN</td>\n",
       "      <td>1.0</td>\n",
       "      <td>NaN</td>\n",
       "      <td>NaN</td>\n",
       "    </tr>\n",
       "    <tr>\n",
       "      <th>conference_room</th>\n",
       "      <td>2</td>\n",
       "      <td>NaN</td>\n",
       "      <td>1.0</td>\n",
       "      <td>2.0</td>\n",
       "      <td>NaN</td>\n",
       "    </tr>\n",
       "    <tr>\n",
       "      <th>runway</th>\n",
       "      <td>2</td>\n",
       "      <td>1.0</td>\n",
       "      <td>1.0</td>\n",
       "      <td>NaN</td>\n",
       "      <td>1.0</td>\n",
       "    </tr>\n",
       "    <tr>\n",
       "      <th>palace</th>\n",
       "      <td>1</td>\n",
       "      <td>NaN</td>\n",
       "      <td>NaN</td>\n",
       "      <td>1.0</td>\n",
       "      <td>3.0</td>\n",
       "    </tr>\n",
       "    <tr>\n",
       "      <th>racecourse</th>\n",
       "      <td>1</td>\n",
       "      <td>NaN</td>\n",
       "      <td>1.0</td>\n",
       "      <td>NaN</td>\n",
       "      <td>NaN</td>\n",
       "    </tr>\n",
       "    <tr>\n",
       "      <th>construction_site</th>\n",
       "      <td>1</td>\n",
       "      <td>6.0</td>\n",
       "      <td>2.0</td>\n",
       "      <td>2.0</td>\n",
       "      <td>2.0</td>\n",
       "    </tr>\n",
       "    <tr>\n",
       "      <th>playground</th>\n",
       "      <td>1</td>\n",
       "      <td>1.0</td>\n",
       "      <td>NaN</td>\n",
       "      <td>1.0</td>\n",
       "      <td>NaN</td>\n",
       "    </tr>\n",
       "    <tr>\n",
       "      <th>corn_field</th>\n",
       "      <td>1</td>\n",
       "      <td>NaN</td>\n",
       "      <td>NaN</td>\n",
       "      <td>NaN</td>\n",
       "      <td>NaN</td>\n",
       "    </tr>\n",
       "    <tr>\n",
       "      <th>aqueduct</th>\n",
       "      <td>1</td>\n",
       "      <td>NaN</td>\n",
       "      <td>NaN</td>\n",
       "      <td>NaN</td>\n",
       "      <td>2.0</td>\n",
       "    </tr>\n",
       "    <tr>\n",
       "      <th>candy_store</th>\n",
       "      <td>1</td>\n",
       "      <td>2.0</td>\n",
       "      <td>1.0</td>\n",
       "      <td>3.0</td>\n",
       "      <td>NaN</td>\n",
       "    </tr>\n",
       "    <tr>\n",
       "      <th>stage</th>\n",
       "      <td>1</td>\n",
       "      <td>2.0</td>\n",
       "      <td>1.0</td>\n",
       "      <td>3.0</td>\n",
       "      <td>1.0</td>\n",
       "    </tr>\n",
       "    <tr>\n",
       "      <th>beauty_salon</th>\n",
       "      <td>1</td>\n",
       "      <td>2.0</td>\n",
       "      <td>2.0</td>\n",
       "      <td>2.0</td>\n",
       "      <td>3.0</td>\n",
       "    </tr>\n",
       "    <tr>\n",
       "      <th>butchers_shop</th>\n",
       "      <td>1</td>\n",
       "      <td>3.0</td>\n",
       "      <td>3.0</td>\n",
       "      <td>NaN</td>\n",
       "      <td>1.0</td>\n",
       "    </tr>\n",
       "    <tr>\n",
       "      <th>hospital_room</th>\n",
       "      <td>1</td>\n",
       "      <td>1.0</td>\n",
       "      <td>NaN</td>\n",
       "      <td>2.0</td>\n",
       "      <td>2.0</td>\n",
       "    </tr>\n",
       "    <tr>\n",
       "      <th>kitchen</th>\n",
       "      <td>1</td>\n",
       "      <td>1.0</td>\n",
       "      <td>2.0</td>\n",
       "      <td>NaN</td>\n",
       "      <td>NaN</td>\n",
       "    </tr>\n",
       "    <tr>\n",
       "      <th>food_court</th>\n",
       "      <td>1</td>\n",
       "      <td>2.0</td>\n",
       "      <td>1.0</td>\n",
       "      <td>4.0</td>\n",
       "      <td>4.0</td>\n",
       "    </tr>\n",
       "    <tr>\n",
       "      <th>amusement_park</th>\n",
       "      <td>1</td>\n",
       "      <td>1.0</td>\n",
       "      <td>1.0</td>\n",
       "      <td>1.0</td>\n",
       "      <td>2.0</td>\n",
       "    </tr>\n",
       "    <tr>\n",
       "      <th>kindergarden_classroom</th>\n",
       "      <td>1</td>\n",
       "      <td>NaN</td>\n",
       "      <td>1.0</td>\n",
       "      <td>1.0</td>\n",
       "      <td>2.0</td>\n",
       "    </tr>\n",
       "    <tr>\n",
       "      <th>swamp</th>\n",
       "      <td>1</td>\n",
       "      <td>NaN</td>\n",
       "      <td>NaN</td>\n",
       "      <td>NaN</td>\n",
       "      <td>NaN</td>\n",
       "    </tr>\n",
       "    <tr>\n",
       "      <th>subway_station</th>\n",
       "      <td>1</td>\n",
       "      <td>NaN</td>\n",
       "      <td>3.0</td>\n",
       "      <td>3.0</td>\n",
       "      <td>1.0</td>\n",
       "    </tr>\n",
       "    <tr>\n",
       "      <th>restaurant</th>\n",
       "      <td>1</td>\n",
       "      <td>2.0</td>\n",
       "      <td>4.0</td>\n",
       "      <td>1.0</td>\n",
       "      <td>1.0</td>\n",
       "    </tr>\n",
       "    <tr>\n",
       "      <th>gas_station</th>\n",
       "      <td>1</td>\n",
       "      <td>NaN</td>\n",
       "      <td>1.0</td>\n",
       "      <td>1.0</td>\n",
       "      <td>1.0</td>\n",
       "    </tr>\n",
       "    <tr>\n",
       "      <th>ice_skating_rink</th>\n",
       "      <td>1</td>\n",
       "      <td>NaN</td>\n",
       "      <td>NaN</td>\n",
       "      <td>NaN</td>\n",
       "      <td>1.0</td>\n",
       "    </tr>\n",
       "    <tr>\n",
       "      <th>volcano</th>\n",
       "      <td>1</td>\n",
       "      <td>NaN</td>\n",
       "      <td>NaN</td>\n",
       "      <td>NaN</td>\n",
       "      <td>NaN</td>\n",
       "    </tr>\n",
       "    <tr>\n",
       "      <th>temple</th>\n",
       "      <td>1</td>\n",
       "      <td>NaN</td>\n",
       "      <td>2.0</td>\n",
       "      <td>NaN</td>\n",
       "      <td>3.0</td>\n",
       "    </tr>\n",
       "    <tr>\n",
       "      <th>bathroom</th>\n",
       "      <td>1</td>\n",
       "      <td>NaN</td>\n",
       "      <td>NaN</td>\n",
       "      <td>3.0</td>\n",
       "      <td>2.0</td>\n",
       "    </tr>\n",
       "    <tr>\n",
       "      <th>bar</th>\n",
       "      <td>1</td>\n",
       "      <td>2.0</td>\n",
       "      <td>1.0</td>\n",
       "      <td>2.0</td>\n",
       "      <td>1.0</td>\n",
       "    </tr>\n",
       "  </tbody>\n",
       "</table>\n",
       "</div>"
      ],
      "text/plain": [
       "                        top1  top2  top3  top4  top5\n",
       "art_gallery                9   6.0   2.0   1.0   3.0\n",
       "museum                     7  12.0  12.0   8.0   8.0\n",
       "staircase                  5   1.0   1.0   2.0   NaN\n",
       "bakery                     5   2.0   2.0   3.0   2.0\n",
       "assembly_line              4   3.0   4.0   6.0   NaN\n",
       "lobby                      4   6.0   2.0   2.0   3.0\n",
       "fire_station               4   2.0   NaN   3.0   2.0\n",
       "airport_terminal           4   3.0   4.0   2.0   3.0\n",
       "office                     3   2.0   NaN   3.0   5.0\n",
       "locker_room                3   1.0   2.0   4.0   NaN\n",
       "aquarium                   2   NaN   1.0   1.0   1.0\n",
       "martial_arts_gym           2   1.0   3.0   NaN   2.0\n",
       "bookstore                  2   1.0   1.0   NaN   NaN\n",
       "ballroom                   2   1.0   1.0   3.0   2.0\n",
       "boxing_ring                2   NaN   NaN   NaN   2.0\n",
       "corridor                   2   4.0   2.0   2.0   1.0\n",
       "bedroom                    2   NaN   NaN   NaN   1.0\n",
       "living_room                2   2.0   1.0   1.0   1.0\n",
       "clothing_store             2   2.0   2.0   2.0   3.0\n",
       "dining_room                2   NaN   NaN   1.0   1.0\n",
       "courtyard                  2   1.0   2.0   NaN   1.0\n",
       "trench                     2   NaN   1.0   NaN   NaN\n",
       "conference_room            2   NaN   1.0   2.0   NaN\n",
       "runway                     2   1.0   1.0   NaN   1.0\n",
       "palace                     1   NaN   NaN   1.0   3.0\n",
       "racecourse                 1   NaN   1.0   NaN   NaN\n",
       "construction_site          1   6.0   2.0   2.0   2.0\n",
       "playground                 1   1.0   NaN   1.0   NaN\n",
       "corn_field                 1   NaN   NaN   NaN   NaN\n",
       "aqueduct                   1   NaN   NaN   NaN   2.0\n",
       "candy_store                1   2.0   1.0   3.0   NaN\n",
       "stage                      1   2.0   1.0   3.0   1.0\n",
       "beauty_salon               1   2.0   2.0   2.0   3.0\n",
       "butchers_shop              1   3.0   3.0   NaN   1.0\n",
       "hospital_room              1   1.0   NaN   2.0   2.0\n",
       "kitchen                    1   1.0   2.0   NaN   NaN\n",
       "food_court                 1   2.0   1.0   4.0   4.0\n",
       "amusement_park             1   1.0   1.0   1.0   2.0\n",
       "kindergarden_classroom     1   NaN   1.0   1.0   2.0\n",
       "swamp                      1   NaN   NaN   NaN   NaN\n",
       "subway_station             1   NaN   3.0   3.0   1.0\n",
       "restaurant                 1   2.0   4.0   1.0   1.0\n",
       "gas_station                1   NaN   1.0   1.0   1.0\n",
       "ice_skating_rink           1   NaN   NaN   NaN   1.0\n",
       "volcano                    1   NaN   NaN   NaN   NaN\n",
       "temple                     1   NaN   2.0   NaN   3.0\n",
       "bathroom                   1   NaN   NaN   3.0   2.0\n",
       "bar                        1   2.0   1.0   2.0   1.0"
      ]
     },
     "execution_count": 262,
     "metadata": {},
     "output_type": "execute_result"
    }
   ],
   "source": [
    "dfstuff"
   ]
  },
  {
   "cell_type": "code",
   "execution_count": null,
   "metadata": {},
   "outputs": [],
   "source": []
  }
 ],
 "metadata": {
  "kernelspec": {
   "display_name": "Python 3",
   "language": "python",
   "name": "python3"
  },
  "language_info": {
   "codemirror_mode": {
    "name": "ipython",
    "version": 3
   },
   "file_extension": ".py",
   "mimetype": "text/x-python",
   "name": "python",
   "nbconvert_exporter": "python",
   "pygments_lexer": "ipython3",
   "version": "3.5.2"
  }
 },
 "nbformat": 4,
 "nbformat_minor": 2
}
